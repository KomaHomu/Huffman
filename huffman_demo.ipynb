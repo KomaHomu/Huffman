{
  "cells": [
    {
      "cell_type": "markdown",
      "metadata": {
        "collapsed": false,
        "deletable": true,
        "editable": true,
        "id": "leVIaGEC8hBt"
      },
      "source": [
        "# Sơ lược thuật toán Huffman\n",
        "\n",
        "- Được phát minh bởi David A. Huffman năm 1952\n",
        "- Được sử dụng để nén dữ liệu không mất mát \\(lossless\\) dựa trên tần số xuất hiện của các ký tự.\n",
        "- Thuật toán Huffman là một thuật toán mã hóa thông tin dùng để nén dữ liệu dựa trên bảng tần suất xuất hiện của các ký tự trong dữ liệu đầu vào.\n",
        "- Thuật toán Huffman xây dựng một bộ mã nhị phân cho các ký tự sao cho dung lượng sau khi mã hóa là nhỏ nhất. Các ký tự có tần suất xuất hiện cao sẽ có độ dài từ mã ngắn hơn, và ngược lại.\n",
        "- Thuật toán Huffman sử dụng một cấu trúc dữ liệu gọi là cây nhị phân để biểu diễn bộ mã. Các nút lá của cây chứa các ký tự và tần suất của chúng, còn các nút nhánh chứa tổng tần suất của hai nút con. Các cây con của nút được quy ước là trái \\- 0 và phải \\- 1 để tạo thành từ mã cho ký tự tương ứng.\n",
        "- Thuật toán Huffman là một thuật toán tham lam, vì nó luôn chọn hai nút có tần suất thấp nhất để ghép lại thành một nút mới. Quá trình này được lặp lại cho đến khi chỉ còn một nút duy nhất là gốc của cây.\n",
        "\n",
        "# Triển khai thuật toán Huffman\n",
        "\n",
        "## Các bước của thuật toán Huffman:\n",
        "\n",
        "### Sinh bảng Huffman\n",
        "\n",
        "- Bước 1: Duyệt cây và biểu diển theo dạng post-prefix. nút trái biểu diễn bằng 0, nút phải biểu diễn bằng 1\n",
        "- Bước 2: Đếm số nút trên cây trừ nút gốc\n",
        "- Bước 3: Tại các nút lá ta lưu lại kí tự theo post-prefix\n",
        "\n",
        "Giả sử có cây Root[Left: [Node a] Right [Node Left[Node b] Right[Node c] ] thì số nút sẽ là 5, Thứ tự duyệt cây post-prefix không tính nút gốc là 0101, danh sách nút lá là abc. Thường cả đoạn này sẽ được chuyển sang nhị phân\n",
        "\n",
        "### Mã hóa\n",
        "\n",
        "- Bước 1: Tính tần số xuất hiện của mỗi ký tự trong chuỗi cần mã hóa và tạo một danh sách các nút lá, mỗi nút lá chứa một ký tự và tần số của nó.\n",
        "- Bước 2: Sắp xếp danh sách các nút lá theo thứ tự tăng dần của tần số và lấy hai nút có tần số nhỏ nhất để tạo một nút cha mới, có giá trị bằng tổng tần số của hai nút con. Gán nhãn nút con trái là 0 và nút con phải là 1. Thêm nút cha vào danh sách và loại bỏ hai nút con khỏi danh sách.\n",
        "- Bước 3: Lặp lại bước 2 cho đến khi chỉ còn một nút duy nhất trong danh sách, đó là nút gốc của cây Huffman. Cây Huffman được xây dựng từ dưới lên bằng cách kết hợp các nút có tần số thấp nhất thành các nhánh mới.\n",
        "- Bước 4: Duyệt cây Huffman từ gốc đến lá để tạo mã cho mỗi ký tự. Mã của một ký tự là chuỗi các bit biểu diễn đường đi từ gốc đến lá chứa ký tự đó. Tập hợp này được gọi là bảng Huffman. Ví dụ, nếu đường đi từ gốc đến lá chứa ký tự a là 0\\-1\\-0\\-1, thì mã của a là 0101.\n",
        "- Bước 5: Mã hóa chuỗi ban đầu bằng cách thay thế mỗi ký tự bằng mã tương ứng của nó. Ví dụ, nếu chuỗi ban đầu là \"abac\" và mã của a là 0, b là 10, c là 11, thì chuỗi mã hóa là \"010011\".\n",
        "- Bước 6: Sinh bảng Huffman\n",
        "- Bước 7: Trả về bảng Huffman và chuỗi đã được mã hóa\n",
        "\n",
        "### Tạo cây từ bảng Huffman\n",
        "\n",
        "- Bước 1: Lấy số nút trên cây\n",
        "- Bước 2: Lấy thứ tự post-prefix trên cây. Chiều dài mảng này luôn nhỏ hơn số nút là 1\n",
        "- Bước 3: Sinh cây, xét từ vị trí nút gốc:\n",
        "  - Gặp số 0, chúng ta sẽ thêm 1 cây con vào bên trái và xét tiếp tại nút này\n",
        "    - Gặp số 1, ta quay lui cho tới khi nào gặp nút cha chưa có cây con phải thì thêm cây con phải và xét nút vừa thêm\n",
        "- Bước 4: Lấy tất cả nút lá theo thứ tự post-prefix và chèn các kí tự\n",
        "\n",
        "Như vậy ta đã có được cây hoàn chỉnh\n",
        "\n",
        "### Giải mã\n",
        "\n",
        "- Bước 1: Tạo cây Huffman từ bảng Huffman\n",
        "- Bước 2: Giải mã chuỗi mã hóa bằng cách duyệt cây Huffman từ gốc đến lá theo từng bit trong chuỗi. Nếu bit là 0, chuyển sang nút con trái, nếu bit là 1, chuyển sang nút con phải. Khi gặp một nút lá, lấy ký tự trong nút lá và thêm vào chuỗi giải mã. Quay lại nút gốc và tiếp tục duyệt cho đến khi hết chuỗi mã hóa. Ví dụ, để giải mã chuỗi \"010011\", ta bắt đầu từ gốc và đi theo các bit như sau: 0 -> trái -> a, 1 - phải -> 0 - trái -> b, 0 - trái -> a, 1 - phải -> 1 - phải -> c. Chuỗi giải mã là \"abac\".\n",
        "\n",
        "## Đánh giá thuật toán:\n",
        "\n",
        "### Ưu điểm:\n",
        "\n",
        "- Thuật toán Huffman có thể giảm kích thước của dữ liệu bằng cách sử dụng các mã có chiều dài khác nhau cho các ký tự khác nhau. Các ký tự có tần suất xuất hiện cao sẽ được gán các mã ngắn hơn, trong khi các ký tự có tần số xuất hiện thấp sẽ được gán các mã dài hơn.\n",
        "- Chỉ cần có bảng Huffman là chúng ta có thể giải mã chuỗi mã hóa mà không cần phải tải hết cả đoạn mã hóa để dịch do Huffman giải mã theo từng bit.\n",
        "\n",
        "### Nhược điểm:\n",
        "\n",
        "- Nếu tần suất xuất hiện quá thấp hoặc kí tự được biểu diễn bởi số bit ít hơn số bit Huffman cần để biểu diễn thì Huffman sẽ không tối ưu được dung lượng thậm chí là tốn nhiều dữ liệu hơn.\n"
      ]
    },
    {
      "cell_type": "markdown",
      "metadata": {
        "collapsed": false,
        "deletable": true,
        "editable": true,
        "id": "KNO1XUxl8hBy"
      },
      "source": [
        "## Cài đặt thuật toán Huffman\n"
      ]
    },
    {
      "cell_type": "markdown",
      "metadata": {
        "collapsed": false,
        "deletable": true,
        "editable": true,
        "id": "HmDWZKrr8hBz"
      },
      "source": [
        "### Cài đặt Node\n",
        "\n",
        "- Node là một nút trong cây Huffman gồm 4 thuộc tính:\n",
        "  - char: ký tự của nút, mặc định là None. Nếu nút là nút lá thì char sẽ là ký tự của nút, nếu nút là nút cha thì char sẽ là None (Kích thước của nó được gọi là word size)\n",
        "  - freq: tần số xuất hiện của ký tự, mặc định là None, nếu nút là nút lá thì freq sẽ là tần số của ký tự, nếu nút là nút cha thì freq sẽ là tổng tần số của các nút con\n",
        "  - left: nút con trái\n",
        "  - right: nút con phải\n",
        "- Các hàm trong Node:\n",
        "  - `__init__`: khởi tạo một nút mới, đã được cài đặt để thỏa mãn các yêu cầu trên\n",
        "  - Bộ hàm so sánh `__lt__`, `__eq__`, `__gt__`, `__le__`, `__ge__`: so sánh tần số của 2 nút\n",
        "  - `__str__`, `__repr__`: trả về chuỗi mô tả nút\n",
        "  - `to_bit`: trả về ba đối tượng\n",
        "    1. Số nút\n",
        "    2. Cây Huffman nhị phân, biểu diễn dưới dạng Preorder bit\n",
        "    3. Các lá Bảng Huffman\n",
        "  - `leaf`: trả về danh sách các lá của cây.\n"
      ]
    },
    {
      "cell_type": "code",
      "execution_count": null,
      "metadata": {
        "ExecuteTime": {
          "end_time": "2023-04-09T14:55:54.350832Z",
          "start_time": "2023-04-09T14:55:54.223107Z"
        },
        "deletable": true,
        "editable": true,
        "id": "sJDs1RIt8hB0"
      },
      "outputs": [],
      "source": [
        "class Node:\n",
        "    def __init__(self, char: str = None, freq: int = None, left=None, right=None, father=None):\n",
        "        if left is not None or right is not None:\n",
        "            self.char = None\n",
        "            self.freq = (left.freq if left is not None else 0) + (right.freq if right is not None else 0)\n",
        "            self.left = left\n",
        "            self.right = right\n",
        "            self.father = father\n",
        "            if left is not None:\n",
        "                left.father = self\n",
        "            if right is not None:\n",
        "                right.father = self\n",
        "        else:\n",
        "            self.char = char\n",
        "            self.freq = freq\n",
        "            self.left = None\n",
        "            self.right = None\n",
        "            self.father = father\n",
        "\n",
        "    def __lt__(self, other):\n",
        "        return self.freq < other.freq\n",
        "\n",
        "    def __eq__(self, other):\n",
        "        return self.freq == other.freq\n",
        "\n",
        "    def __gt__(self, other):\n",
        "        return self.freq > other.freq\n",
        "\n",
        "    def __le__(self, other):\n",
        "        return self.freq <= other.freq\n",
        "\n",
        "    def __ge__(self, other):\n",
        "        return self.freq >= other.freq\n",
        "\n",
        "    def __str__(self):\n",
        "        return f'Node[({self.char}), left: [{self.left}], right: [{self.right}]]'\n",
        "    def __repr__(self):\n",
        "        return str(self)\n",
        "\n",
        "    def to_table(self):\n",
        "        node = 0\n",
        "        tree = ''\n",
        "        char = []\n",
        "        if self.char is not None:\n",
        "            return 1, tree, [self.char]\n",
        "        else:\n",
        "            node_l, tree_l, char_l = self.left.to_table() if self.left is not None else (0, '', [])\n",
        "            node_r, tree_r, char_r = self.right.to_table() if self.right is not None else (0, '', [])\n",
        "            char = char_l + char_r\n",
        "            node = node_l + node_r + 1\n",
        "            if self.left is not None:\n",
        "                tree += '0' + tree_l\n",
        "            if self.right is not None:\n",
        "                tree += '1' + tree_r\n",
        "            return [node, tree, char]\n",
        "    def leafs(self):\n",
        "        if self.left is None and self.right is None:\n",
        "            return [self]\n",
        "        else:\n",
        "            return (self.left.leafs() if self.left is not None else []) + (self.right.leafs() if self.right is not None else [])"
      ]
    },
    {
      "cell_type": "markdown",
      "metadata": {
        "collapsed": false,
        "deletable": true,
        "editable": true,
        "id": "2VzYOvqX8hB1"
      },
      "source": [
        "### Các hàm hỗ trợ Huffman\n"
      ]
    },
    {
      "cell_type": "markdown",
      "metadata": {
        "collapsed": false,
        "deletable": true,
        "editable": true,
        "id": "72FUQhCw8hB1"
      },
      "source": [
        "- `freq`: đếm tần số xuất hiện của các ký tự trong chuỗi\n"
      ]
    },
    {
      "cell_type": "code",
      "execution_count": null,
      "metadata": {
        "ExecuteTime": {
          "end_time": "2023-04-09T14:55:54.409578Z",
          "start_time": "2023-04-09T14:55:54.233798Z"
        },
        "deletable": true,
        "editable": true,
        "id": "R3kfl3pY8hB2"
      },
      "outputs": [],
      "source": [
        "def calc_freq(data):\n",
        "    list_char = {}\n",
        "    for char in data:\n",
        "        if char in list_char:\n",
        "            list_char[char] += 1\n",
        "        else:\n",
        "            list_char[char] = 1\n",
        "    return list_char"
      ]
    },
    {
      "cell_type": "markdown",
      "metadata": {
        "collapsed": false,
        "deletable": true,
        "editable": true,
        "id": "O5sssC3q8hB2"
      },
      "source": [
        "- `build_tree`: chuyển dữ liệu thành cây Huffman\n"
      ]
    },
    {
      "cell_type": "code",
      "execution_count": null,
      "metadata": {
        "ExecuteTime": {
          "end_time": "2023-04-09T14:55:54.410138Z",
          "start_time": "2023-04-09T14:55:54.245363Z"
        },
        "deletable": true,
        "editable": true,
        "id": "fAeKEN7O8hB2"
      },
      "outputs": [],
      "source": [
        "def build_tree(data):\n",
        "    list_char = calc_freq(data)\n",
        "    heap = []\n",
        "    for char, freq in list_char.items():\n",
        "        heap.append(Node(char, freq))\n",
        "    while len(heap) > 1:\n",
        "        heap.sort()\n",
        "        left = heap.pop(0)\n",
        "        right = heap.pop(0)\n",
        "        heap.append(Node(left=left, right=right))\n",
        "    if heap[0].char is not None:\n",
        "        return Node(left=heap[0])\n",
        "    return heap[0]"
      ]
    },
    {
      "cell_type": "markdown",
      "metadata": {
        "collapsed": false,
        "deletable": true,
        "editable": true,
        "id": "b230XpN38hB2"
      },
      "source": [
        "- `tree_to_dict` chuyển cây Huffman thành bảng mã\n"
      ]
    },
    {
      "cell_type": "code",
      "execution_count": null,
      "metadata": {
        "ExecuteTime": {
          "end_time": "2023-04-09T14:55:54.410671Z",
          "start_time": "2023-04-09T14:55:54.253719Z"
        },
        "deletable": true,
        "editable": true,
        "id": "reus2ipu8hB3"
      },
      "outputs": [],
      "source": [
        "def tree_to_dict(root):\n",
        "    huffman_dict = {}\n",
        "    def traverse(node, code):\n",
        "        if node is None:\n",
        "            return\n",
        "\n",
        "        if node.char is not None:\n",
        "            huffman_dict[node.char] = code\n",
        "            return\n",
        "\n",
        "        traverse(node.left, code + '0')\n",
        "        traverse(node.right, code + '1')\n",
        "\n",
        "    traverse(root, '')\n",
        "    return huffman_dict"
      ]
    },
    {
      "cell_type": "markdown",
      "metadata": {
        "collapsed": false,
        "deletable": true,
        "editable": true,
        "id": "qweSh-SG8hB3"
      },
      "source": [
        "- `get_code` trả về mã tương ứng với ký tự trong bảng mã\n"
      ]
    },
    {
      "cell_type": "code",
      "execution_count": null,
      "metadata": {
        "ExecuteTime": {
          "end_time": "2023-04-09T14:55:54.411234Z",
          "start_time": "2023-04-09T14:55:54.272991Z"
        },
        "deletable": true,
        "editable": true,
        "id": "vDsX06Zg8hB3"
      },
      "outputs": [],
      "source": [
        "def get_code(huffman_dict, char):\n",
        "    for c, code in huffman_dict.items():\n",
        "        if c == char:\n",
        "            return code\n",
        "    return None"
      ]
    },
    {
      "cell_type": "markdown",
      "metadata": {
        "collapsed": false,
        "deletable": true,
        "editable": true,
        "id": "oupPMiQH8hB4"
      },
      "source": [
        "- `table_to_tree` chuyển bảng mã thành cây Huffman\n"
      ]
    },
    {
      "cell_type": "code",
      "execution_count": null,
      "metadata": {
        "ExecuteTime": {
          "end_time": "2023-04-09T14:55:54.411970Z",
          "start_time": "2023-04-09T14:55:54.273074Z"
        },
        "deletable": true,
        "editable": true,
        "id": "8W3iFmek8hB4"
      },
      "outputs": [],
      "source": [
        "def table_to_tree(code):\n",
        "    node = code[0] - 1# Lấy số nút trừ root\n",
        "    preorder=code[1] # Lấy preorder của cây\n",
        "    # Xây cây\n",
        "    root = Node()\n",
        "    current = root \n",
        "    for i in range(len(preorder)):\n",
        "        if preorder[i] == '0':\n",
        "            current.left = Node()\n",
        "            current.left.father = current\n",
        "            current = current.left\n",
        "        elif preorder[i] == '1':\n",
        "            current = current.father\n",
        "            while current.right is not None:\n",
        "                current = current.father\n",
        "            current.right = Node()\n",
        "            current.right.father = current\n",
        "            current = current.right\n",
        "    # Chèn kí tự cho nút lá\n",
        "    leafs = root.leafs()\n",
        "    for i in range(len(leafs)):\n",
        "        leafs[i].char = code[2][i]\n",
        "    return root, code[-1]"
      ]
    },
    {
      "cell_type": "markdown",
      "metadata": {
        "collapsed": false,
        "deletable": true,
        "editable": true,
        "id": "xkTUP6yQ8hB4"
      },
      "source": [
        "### Encode\n",
        "\n",
        "`encode` chuyển dữ liệu thành chuỗi mã hóa và bảng mã\n",
        "\n",
        "- Bước 1: Dựng cây Huffman từ dữ liệu\n",
        "- Bước 2: Chuyển cây Huffman thành bảng mã\n",
        "- Bước 3: Duyệt dữ liệu, mã hóa từng ký tự\n"
      ]
    },
    {
      "cell_type": "code",
      "execution_count": null,
      "metadata": {
        "ExecuteTime": {
          "end_time": "2023-04-09T14:55:54.413283Z",
          "start_time": "2023-04-09T14:55:54.286555Z"
        },
        "deletable": true,
        "editable": true,
        "id": "wOSrKAhj8hB4"
      },
      "outputs": [],
      "source": [
        "def encode(data):\n",
        "    root = build_tree(data)\n",
        "    huffman_dict = tree_to_dict(root)\n",
        "    res = ''\n",
        "    for char in data:\n",
        "        res += huffman_dict[char]\n",
        "    res = root.to_table() + [res]\n",
        "    return res"
      ]
    },
    {
      "cell_type": "markdown",
      "metadata": {
        "collapsed": false,
        "deletable": true,
        "editable": true,
        "id": "D8QFs2sM8hB5"
      },
      "source": [
        "### Decode\n",
        "\n",
        "`decode` giải mã chuỗi mã hóa thành dữ liệu\n",
        "\n",
        "- Bước 1: Chuyển bảng mã thành cây Huffman\n",
        "- Bước 2: Duyệt chuỗi mã hóa, để đi đến vị trí đích của ký tự trong cây Huffman\n",
        "- Bước 3: Lấy ký tự tại vị trí đích\n",
        "- Bước 4: Về nút gốc và lặp lại cho đến khi duyệt hết chuỗi mã hóa\n"
      ]
    },
    {
      "cell_type": "code",
      "execution_count": null,
      "metadata": {
        "ExecuteTime": {
          "end_time": "2023-04-09T14:55:54.422822Z",
          "start_time": "2023-04-09T14:55:54.295386Z"
        },
        "deletable": true,
        "editable": true,
        "id": "JKaK3_8y8hB5"
      },
      "outputs": [],
      "source": [
        "def decode(code, huffman_tree=None):\n",
        "    if huffman_tree is None:\n",
        "        huffman_tree, code = table_to_tree(code)\n",
        "    current = huffman_tree\n",
        "    data = ''\n",
        "    for c in code:\n",
        "        if c == '0':\n",
        "            current = current.left\n",
        "        elif c == '1':\n",
        "            current = current.right\n",
        "        if current.char is not None:\n",
        "            data += current.char\n",
        "            current = huffman_tree\n",
        "    return data"
      ]
    },
    {
      "cell_type": "markdown",
      "metadata": {
        "collapsed": false,
        "deletable": true,
        "editable": true,
        "id": "EgdBK7dw8hB5"
      },
      "source": [
        "### Test\n",
        "\n",
        "Mỗi kí tự được biểu diễn cố định bởi $f$ bit, số lượng node sẽ được biểu diễn bởi $a$ bit\n",
        "\n",
        "Như vậy độ dài bit trước khi mã hóa là $f \\times n$ ($n$ là độ dài chuỗi)\n",
        "\n",
        "Độ dài sau khi mã hóa là $a + (o - 1) + f \\times m + e$ ($m$ là số chữ cái trong chuỗi, o là số node của cây, e là dãy được mã hóa)\n",
        "\n",
        "Để thuật toán hiệu quả thì $(n - m) \\times f > a + (o - 1) + e$ còn không dữ liệu sau khi nén sẽ bị phình ra bởi việc lưu cây Huffman\n",
        "\n",
        "Thuật toán có 2 tình huống xấu:\n",
        "\n",
        "- $n \\approx m$, phình thêm $a + (o - 1) + e$ bit do tần suất xuất hiện thấp, xấu nhất n = m.\n",
        "- $f < \\frac{a + (o - 1) + e}{n - m}$, khi đó sẽ có những kí tự phải biểu diễn bằng số bit lớn hơn ban đầu. Nếu $n$ đủ lớn chuỗi vẫn sẽ nén được\n",
        "\n",
        "Giả sử ta mã hóa chuỗi '1234567890' và bội của nó mỗi kí tự sẽ tính 5 bit, $a = 5$\n"
      ]
    },
    {
      "cell_type": "code",
      "execution_count": null,
      "metadata": {
        "deletable": true,
        "editable": true,
        "colab": {
          "base_uri": "https://localhost:8080/"
        },
        "id": "O3g3TA2o8hB5",
        "outputId": "8a9501ad-0905-42db-bff9-fc9956a5dfbf"
      },
      "outputs": [
        {
          "output_type": "stream",
          "name": "stdout",
          "text": [
            "Sample: 123456789123456789\n",
            "Sample length: 18 x 5 = 90\n",
            "Code: [17, '0001101100110101', ['3', '4', '5', '6', '7', '8', '9', '1', '2'], '1110111100000101001110010111011101111000001010011100101110']\n",
            "Code length: 124\n",
            "\n",
            "Sample: 123456789123456789123456789123456789\n",
            "Sample length: 36 x 5 = 180\n",
            "Code: [17, '0001101100110101', ['3', '4', '5', '6', '7', '8', '9', '1', '2'], '11101111000001010011100101110111011110000010100111001011101110111100000101001110010111011101111000001010011100101110']\n",
            "Code length: 182\n",
            "\n",
            "Sample: 123456789123456789123456789123456789123456789\n",
            "Sample length: 45 x 5 = 225\n",
            "Code: [17, '0001101100110101', ['3', '4', '5', '6', '7', '8', '9', '1', '2'], '1110111100000101001110010111011101111000001010011100101110111011110000010100111001011101110111100000101001110010111011101111000001010011100101110']\n",
            "Code length: 211\n",
            "\n"
          ]
        }
      ],
      "source": [
        "def test_function_mini(data):\n",
        "    data_bit_length = len(data) * 5\n",
        "    print(f\"Sample: {data}\")\n",
        "    print(f\"Sample length: {len(data)} x 5 = {data_bit_length}\")\n",
        "    code = encode(data)\n",
        "    print(f\"Code: {code}\")\n",
        "    len_code = 5 + len(code[1]) + len(code[2]) * 5 + len(code[3])\n",
        "    print(f\"Code length: {len_code}\")\n",
        "    print()\n",
        "\n",
        "test_function_mini(2*'123456789')\n",
        "test_function_mini(4*'123456789')\n",
        "test_function_mini(5*'123456789')\n"
      ]
    },
    {
      "cell_type": "markdown",
      "metadata": {
        "collapsed": false,
        "deletable": true,
        "editable": true,
        "id": "w89C7j6E8hB6"
      },
      "source": [
        "Ta thấy lặp lại chuỗi đến 5 lần, $n$ mới đủ lớn để chuỗi được nén hiệu quả\n",
        "\n",
        "Ở đây sẽ tính 1 kí tự sẽ tính là 32 bit, số lượng node cũng sẽ tính là 32 bit\n"
      ]
    },
    {
      "cell_type": "code",
      "execution_count": null,
      "metadata": {
        "ExecuteTime": {
          "end_time": "2023-04-09T14:55:54.423495Z",
          "start_time": "2023-04-09T14:55:54.305806Z"
        },
        "deletable": true,
        "editable": true,
        "id": "XOtVjXm78hB6"
      },
      "outputs": [],
      "source": [
        "def test_function(text, print_result=True):\n",
        "    print(\"Sample: \", text) if print_result else None\n",
        "    sample_bit_length = len(text) * 32\n",
        "    print(f\"Sample length: {len(text)} x 32 = {sample_bit_length}\")\n",
        "    res = encode(text)\n",
        "    len_res = 32 + len(res[1]) + 32 * len(res[2]) + len(res[-1])\n",
        "    print(\"Code length: \", len_res)\n",
        "    print(\"Compression ratio: \", sample_bit_length/len_res)\n",
        "    print()\n",
        "    print(\"Decode: \", decode(res)) if print_result else None\n"
      ]
    },
    {
      "cell_type": "markdown",
      "metadata": {
        "collapsed": false,
        "deletable": true,
        "editable": true,
        "id": "sMJ4uiSS8hB7"
      },
      "source": [
        "2. Tình huống xấu: tần suất xuất hiện thấp\n"
      ]
    },
    {
      "cell_type": "code",
      "execution_count": null,
      "metadata": {
        "ExecuteTime": {
          "end_time": "2023-04-09T14:55:54.424375Z",
          "start_time": "2023-04-09T14:55:54.316396Z"
        },
        "deletable": true,
        "editable": true,
        "colab": {
          "base_uri": "https://localhost:8080/"
        },
        "id": "g8i-Mf0k8hB7",
        "outputId": "5e41ff16-6691-4ab7-8bfe-f3ba379babb2"
      },
      "outputs": [
        {
          "output_type": "stream",
          "name": "stdout",
          "text": [
            "Sample:  abcdefghiklmnopqrstuvwxyz\n",
            "Sample length: 25 x 32 = 800\n",
            "Code length:  998\n",
            "Compression ratio:  0.8016032064128257\n",
            "\n",
            "Decode:  abcdefghiklmnopqrstuvwxyz\n",
            "\n",
            "{'a': 1, 'b': 1, 'c': 1, 'd': 1, 'e': 1, 'f': 1, 'g': 1, 'h': 1, 'i': 1, 'k': 1, 'l': 1, 'm': 1, 'n': 1, 'o': 1, 'p': 1, 'q': 1, 'r': 1, 's': 1, 't': 1, 'u': 1, 'v': 1, 'w': 1, 'x': 1, 'y': 1, 'z': 1}\n"
          ]
        }
      ],
      "source": [
        "data = 'abcdefghiklmnopqrstuvwxyz'\n",
        "test_function(data)\n",
        "print()\n",
        "print(calc_freq(data))"
      ]
    },
    {
      "cell_type": "markdown",
      "metadata": {
        "collapsed": false,
        "deletable": true,
        "editable": true,
        "id": "_6fTbxl38hB7"
      },
      "source": [
        "Tỉ số nén cho chuỗi `abcdefghiklmnopqrstuvwxyz` là 0.8, độ dài bit từ 800 bit xuống 998 bit, kết quả nén và giải nén không đổi (lossless) nặng hơn ban đầu.\n"
      ]
    },
    {
      "cell_type": "markdown",
      "metadata": {
        "collapsed": false,
        "deletable": true,
        "editable": true,
        "id": "FBOMKxqc8hB7"
      },
      "source": [
        "3. Tình huống tốt nhất: dữ liệu dễ nén, các kí tự lặp nhiều\n"
      ]
    },
    {
      "cell_type": "code",
      "execution_count": null,
      "metadata": {
        "ExecuteTime": {
          "end_time": "2023-04-09T14:55:54.424704Z",
          "start_time": "2023-04-09T14:55:54.325743Z"
        },
        "deletable": true,
        "editable": true,
        "colab": {
          "base_uri": "https://localhost:8080/"
        },
        "id": "OA6G8PlV8hB8",
        "outputId": "68009514-5732-47ce-dba3-8e3d5cf183ce"
      },
      "outputs": [
        {
          "output_type": "stream",
          "name": "stdout",
          "text": [
            "Sample:  aaaaaaaaaaaaaaa\n",
            "Sample length: 15 x 32 = 480\n",
            "Code length:  80\n",
            "Compression ratio:  6.0\n",
            "\n",
            "Decode:  aaaaaaaaaaaaaaa\n"
          ]
        }
      ],
      "source": [
        "test_function('aaaaaaaaaaaaaaa')"
      ]
    },
    {
      "cell_type": "markdown",
      "metadata": {
        "collapsed": false,
        "deletable": true,
        "editable": true,
        "id": "T_2pLxhy8hB8"
      },
      "source": [
        "Dữ liệu dễ nén tần suất xuất hiện cao, tỉ lệ nén lên đến 6\n",
        "\n",
        "4. Trường hợp trung bình\n"
      ]
    },
    {
      "cell_type": "code",
      "execution_count": null,
      "metadata": {
        "ExecuteTime": {
          "end_time": "2023-04-09T14:55:54.424880Z",
          "start_time": "2023-04-09T14:55:54.366201Z"
        },
        "deletable": true,
        "editable": true,
        "colab": {
          "base_uri": "https://localhost:8080/"
        },
        "id": "OveGHeJb8hB8",
        "outputId": "ba1ceb95-9b22-42c8-8995-ef97e58cc7da"
      },
      "outputs": [
        {
          "output_type": "stream",
          "name": "stdout",
          "text": [
            "Sample length: 131 x 32 = 4192\n",
            "Code length:  2082\n",
            "Compression ratio:  2.0134486071085496\n",
            "\n"
          ]
        }
      ],
      "source": [
        "data = \"\"\"\n",
        "Trăm năm trong cõi người ta,\n",
        "Chữ tài chữ mệnh khéo là ghét nhau.\n",
        "Trải qua một cuộc bể dâu,\n",
        "Những điều trông thấy mà đau đớn lòng.\n",
        "\"\"\"\n",
        "test_function(data, print_result=False)"
      ]
    },
    {
      "cell_type": "markdown",
      "metadata": {
        "collapsed": false,
        "deletable": true,
        "editable": true,
        "id": "WbSfZgO48hB8"
      },
      "source": [
        "Đối với dữ liệu trên là một đoạn văn bản, tỉ số nén bao gồm cả từ điển là 2.0 từ hơn 4192 bit xuống 2082 bit\n",
        "\n",
        "5. Trường hợp stream\n",
        "\n",
        "Thuật toán Huffman có 1 điểm đặc biệt mà các thuật toán khác không có là nó xử lý theo từng bit một, chỉ cần 1 cây có sẵn chúng ta không cần có hết các bit vẫn có thể giải được, không cần quan tâm bit tiếp theo. Việc này phù hợp cho việc truyền thông tin trực tiếp, không cần phải đợi đến khi có đủ dữ liệu để giải mã như HTTP, SMB, ...\n",
        "Bên cạnh đó để tiết kiệm dung lượng cho file nén, người ta có thể dùng chung cây. Còn không có cây, không thể giải mã, một hình thức bảo mật.\n"
      ]
    },
    {
      "cell_type": "code",
      "execution_count": null,
      "metadata": {
        "ExecuteTime": {
          "end_time": "2023-04-09T14:55:54.424999Z",
          "start_time": "2023-04-09T14:55:54.366364Z"
        },
        "deletable": true,
        "editable": true,
        "colab": {
          "base_uri": "https://localhost:8080/"
        },
        "id": "pTeiVmbd8hB8",
        "outputId": "03d53545-b983-4102-a3b2-23b33a4e8da0"
      },
      "outputs": [
        {
          "output_type": "stream",
          "name": "stdout",
          "text": [
            "Step 0:\n",
            "Step 1:ha.o\n",
            "Step 2:ha.omNc\n",
            "Step 3:ha.omNcT\n",
            "\n",
            " \n",
            "Step 4:ha.omNcT\n",
            "\n",
            " ăug r\n",
            "Step 5:ha.omNcT\n",
            "\n",
            " ăug r, õT\n"
          ]
        }
      ],
      "source": [
        "import random\n",
        "\n",
        "tree = build_tree(data)\n",
        "temp = tree\n",
        "data = ''\n",
        "for i in range(101):\n",
        "    c = random.choice(['0', '1'])\n",
        "    if c == '0':\n",
        "        temp = temp.left\n",
        "    else:\n",
        "        temp = temp.right\n",
        "    if temp.char is not None:\n",
        "        data += temp.char\n",
        "        temp = tree\n",
        "    if i % 20 == 0:\n",
        "        print(f'Step {i//20}:{data}')"
      ]
    },
    {
      "cell_type": "markdown",
      "metadata": {
        "collapsed": false,
        "deletable": true,
        "editable": true,
        "id": "0QE4Viy-8hB9"
      },
      "source": [
        "# Cải tiến\n",
        "\n",
        "Nếu như chuỗi cần nén có ít chữ cái, ví dụ 1 chuỗi bit toàn 0 và 1 mà mỗi node chúng ta chúng ta lưu 1 kí tự, chuỗi chả được nén lại còn mất thêm dung lượng cho cây và số node\n",
        "\n",
        "Vậy nên tham lam hơn, thay vì chúng ta chọn 1 kí tự chúng ta có thể chọn 1 cụm kí tự. Và đây là lý do LZ tham gia cùng với Huffman: dùng thuật toán tham lam LZ để tạo các chuỗi con vô cùng hiệu quả\n",
        "\n",
        "Ở đây mình dùng LZW nhưng cải tiến để nó chia ra kích thước cho mỗi bộ mà mình mong muốn\n",
        "\n",
        "## Phân chia bằng LZ\n",
        "\n",
        "Hàm `lzw_split` có hai tham số đầu vào là chuỗi kí tự và kích thước cho mỗi bộ (ở đây mặc định 4 kí tự (128 bit))\n",
        "\n",
        "Chuẩn bị: 1 mảng trống làm từ điển, 1 chuỗi rỗng a và 1 mảng rỗng làm đầu ra\n",
        "\n",
        "- Bước 1: Lấy từng kí tự\n",
        "- Bước 2: Tạo một chuỗi mới gồm chuỗi a và kí tự vừa được lấy và kiểm tra chuỗi đó có trong từ điển chưa\n",
        "  - Nếu rồi thì gán chuỗi vừa rồi thành chuỗi a rồi chạy tiếp\n",
        "  - Nếu chưa, ta thêm vào mảng trả về chuỗi a, thêm chuỗi vừa rồi vào từ điển nếu nó nhỏ hơn kích thước từ điển và gán kí tự đang xét vào chuỗi a\n",
        "- Bước 3: Thêm kí tự còn lại vào mảng encoded\n",
        "\n",
        "Kết quả thu được là một mảng chứa các bộ kí tự\n"
      ]
    },
    {
      "cell_type": "code",
      "source": [
        "def lzw_split_0(input_string, word_size = 4, dictionary = None):\n",
        "    if len(input_string) == 0 or input_string is None:\n",
        "        return []\n",
        "    if word_size > len(input_string):\n",
        "        word_size = len(input_string)\n",
        "    if dictionary is None:\n",
        "        dictionary = []\n",
        "    current_string = []\n",
        "    encoded = []\n",
        "\n",
        "    for char in input_string:\n",
        "        current_string_plus_char = current_string + [char]\n",
        "        if current_string_plus_char in dictionary:\n",
        "            current_string = current_string_plus_char\n",
        "        else:\n",
        "            encoded.append(current_string) if len(current_string) != 0 else None\n",
        "            if len(current_string) < word_size:\n",
        "                dictionary += [current_string_plus_char]\n",
        "            current_string = [char]\n",
        "    if current_string:\n",
        "        encoded.append(current_string)\n",
        "    return encoded"
      ],
      "metadata": {
        "id": "5wT6VkG1_BMq"
      },
      "execution_count": null,
      "outputs": []
    },
    {
      "cell_type": "code",
      "source": [
        "lzw_split_0('This is a test string, is a test string',3)"
      ],
      "metadata": {
        "colab": {
          "base_uri": "https://localhost:8080/"
        },
        "id": "0e78Bbld7Emc",
        "outputId": "e9b797c4-86f7-4a16-beba-e00e5ce40df0"
      },
      "execution_count": null,
      "outputs": [
        {
          "output_type": "execute_result",
          "data": {
            "text/plain": [
              "[['T'],\n",
              " ['h'],\n",
              " ['i'],\n",
              " ['s'],\n",
              " [' '],\n",
              " ['i', 's'],\n",
              " [' '],\n",
              " ['a'],\n",
              " [' '],\n",
              " ['t'],\n",
              " ['e'],\n",
              " ['s'],\n",
              " ['t'],\n",
              " [' '],\n",
              " ['s', 't'],\n",
              " ['r'],\n",
              " ['i'],\n",
              " ['n'],\n",
              " ['g'],\n",
              " [','],\n",
              " [' ', 'i'],\n",
              " ['s', ' '],\n",
              " ['a', ' '],\n",
              " ['t', 'e'],\n",
              " ['s', 't'],\n",
              " [' ', 's'],\n",
              " ['t'],\n",
              " ['r', 'i'],\n",
              " ['n', 'g']]"
            ]
          },
          "metadata": {},
          "execution_count": 220
        }
      ]
    },
    {
      "cell_type": "markdown",
      "source": [
        "\n",
        "Do đặc trưng của LZ, nó sẽ tạo ra các chuỗi có độ dài tăng dần, có nhiều chuỗi là chuỗi con của 1 chuỗi khác trong dãy, vậy nên để tối ưu, chúng ta sẽ đệ quy để đảm bảo tỉ lệ 90% đầu ra đạt kích thước yêu cầu"
      ],
      "metadata": {
        "id": "p9Qi72Fux26x"
      }
    },
    {
      "cell_type": "code",
      "execution_count": null,
      "metadata": {
        "deletable": true,
        "editable": true,
        "id": "U4N4CdcK8hB9"
      },
      "outputs": [],
      "source": [
        "def lzw_split(input_string, word_size = 4, dictionary = None, rate=0.9):\n",
        "    if len(input_string) == 0 or input_string is None:\n",
        "        return []\n",
        "    if word_size > len(input_string):\n",
        "        word_size = len(input_string)\n",
        "    if dictionary is None:\n",
        "        dictionary = []\n",
        "    current_string = []\n",
        "    encoded = []\n",
        "\n",
        "    for char in input_string:\n",
        "        current_string_plus_char = current_string + [char]\n",
        "        if current_string_plus_char in dictionary:\n",
        "            current_string = current_string_plus_char\n",
        "        else:\n",
        "            encoded.append(current_string) if len(current_string) != 0 else None\n",
        "            if len(current_string) < word_size:\n",
        "                dictionary += [current_string_plus_char]\n",
        "            current_string = [char]\n",
        "    if current_string:\n",
        "        encoded.append(current_string)\n",
        "    ratio=0\n",
        "    for i in encoded:\n",
        "        if len(i) == word_size:\n",
        "            ratio += 1\n",
        "    if ratio < len(encoded) // 10 * int(rate * 10):\n",
        "        encoded = lzw_split(input_string, word_size, dictionary)\n",
        "    return encoded"
      ]
    },
    {
      "cell_type": "code",
      "source": [
        "lzw_split('This is a test string, is a test string',3)"
      ],
      "metadata": {
        "colab": {
          "base_uri": "https://localhost:8080/"
        },
        "id": "_UsTSfIt7PnV",
        "outputId": "e03ea32b-7cd5-4bcc-ffd7-26ba115f8a92"
      },
      "execution_count": null,
      "outputs": [
        {
          "output_type": "execute_result",
          "data": {
            "text/plain": [
              "[['T', 'h', 'i'],\n",
              " ['s', ' '],\n",
              " ['i', 's', ' '],\n",
              " ['a', ' ', 't'],\n",
              " ['e', 's', 't'],\n",
              " [' ', 's', 't'],\n",
              " ['r', 'i', 'n'],\n",
              " ['g', ',', ' '],\n",
              " ['i', 's', ' '],\n",
              " ['a', ' ', 't'],\n",
              " ['e', 's', 't'],\n",
              " [' ', 's', 't'],\n",
              " ['r', 'i', 'n'],\n",
              " ['g']]"
            ]
          },
          "metadata": {},
          "execution_count": 222
        }
      ]
    },
    {
      "cell_type": "markdown",
      "source": [
        "Ta sẽ sửa lại hàm tính tần số để so sánh hiệu quả"
      ],
      "metadata": {
        "id": "-jzjEYRQ7JBw"
      }
    },
    {
      "cell_type": "code",
      "execution_count": null,
      "metadata": {
        "deletable": true,
        "editable": true,
        "id": "Kia0faYP8hB-"
      },
      "outputs": [],
      "source": [
        "def calc_freq_list(data):\n",
        "    list_block = {}\n",
        "    for block in data:\n",
        "        subdata = ''.join(block)\n",
        "        if subdata in list_block:\n",
        "            list_block[subdata]['freq'] += 1\n",
        "        else:\n",
        "            list_block[subdata] = {\n",
        "                'freq' : 1,\n",
        "                'char' : block\n",
        "            }\n",
        "    return list_block"
      ]
    },
    {
      "cell_type": "code",
      "source": [
        "calc_freq_list(lzw_split_0('This is a test string, is a test string',3))"
      ],
      "metadata": {
        "colab": {
          "base_uri": "https://localhost:8080/"
        },
        "id": "WgY5FnpK_HjJ",
        "outputId": "f0535cf4-fbbd-4127-8ff5-71c414132398"
      },
      "execution_count": null,
      "outputs": [
        {
          "output_type": "execute_result",
          "data": {
            "text/plain": [
              "{'T': {'freq': 1, 'char': ['T']},\n",
              " 'h': {'freq': 1, 'char': ['h']},\n",
              " 'i': {'freq': 2, 'char': ['i']},\n",
              " 's': {'freq': 2, 'char': ['s']},\n",
              " ' ': {'freq': 4, 'char': [' ']},\n",
              " 'is': {'freq': 1, 'char': ['i', 's']},\n",
              " 'a': {'freq': 1, 'char': ['a']},\n",
              " 't': {'freq': 3, 'char': ['t']},\n",
              " 'e': {'freq': 1, 'char': ['e']},\n",
              " 'st': {'freq': 2, 'char': ['s', 't']},\n",
              " 'r': {'freq': 1, 'char': ['r']},\n",
              " 'n': {'freq': 1, 'char': ['n']},\n",
              " 'g': {'freq': 1, 'char': ['g']},\n",
              " ',': {'freq': 1, 'char': [',']},\n",
              " ' i': {'freq': 1, 'char': [' ', 'i']},\n",
              " 's ': {'freq': 1, 'char': ['s', ' ']},\n",
              " 'a ': {'freq': 1, 'char': ['a', ' ']},\n",
              " 'te': {'freq': 1, 'char': ['t', 'e']},\n",
              " ' s': {'freq': 1, 'char': [' ', 's']},\n",
              " 'ri': {'freq': 1, 'char': ['r', 'i']},\n",
              " 'ng': {'freq': 1, 'char': ['n', 'g']}}"
            ]
          },
          "metadata": {},
          "execution_count": 224
        }
      ]
    },
    {
      "cell_type": "code",
      "execution_count": null,
      "metadata": {
        "colab": {
          "base_uri": "https://localhost:8080/"
        },
        "id": "qCIcVCp38hB9",
        "outputId": "04c27016-5c38-4b78-8e36-a8185d7d63c2"
      },
      "outputs": [
        {
          "output_type": "execute_result",
          "data": {
            "text/plain": [
              "{'Thi': {'freq': 1, 'char': ['T', 'h', 'i']},\n",
              " 's ': {'freq': 1, 'char': ['s', ' ']},\n",
              " 'is ': {'freq': 2, 'char': ['i', 's', ' ']},\n",
              " 'a t': {'freq': 2, 'char': ['a', ' ', 't']},\n",
              " 'est': {'freq': 2, 'char': ['e', 's', 't']},\n",
              " ' st': {'freq': 2, 'char': [' ', 's', 't']},\n",
              " 'rin': {'freq': 2, 'char': ['r', 'i', 'n']},\n",
              " 'g, ': {'freq': 1, 'char': ['g', ',', ' ']},\n",
              " 'g': {'freq': 1, 'char': ['g']}}"
            ]
          },
          "metadata": {},
          "execution_count": 225
        }
      ],
      "source": [
        "calc_freq_list(lzw_split('This is a test string, is a test string',3))"
      ]
    },
    {
      "cell_type": "markdown",
      "source": [
        "Ta có thể thấy đã có nhiều sự lặp lại hơn, ít bộ hơn"
      ],
      "metadata": {
        "id": "dD5Ycycgx8Ko"
      }
    },
    {
      "cell_type": "markdown",
      "metadata": {
        "collapsed": false,
        "deletable": true,
        "editable": true,
        "id": "lmtwiEXR8hB9"
      },
      "source": [
        "## Encode\n",
        "\n",
        "Ta sẽ chỉnh lại 1 vài hàm để có thể hoạt động với list\n"
      ]
    },
    {
      "cell_type": "code",
      "execution_count": null,
      "metadata": {
        "deletable": true,
        "editable": true,
        "id": "Qkzi9GLx8hB9"
      },
      "outputs": [],
      "source": [
        "class Node_Block(Node):\n",
        "    def to_table(self):\n",
        "        node = 0\n",
        "        tree = ''\n",
        "        char = []\n",
        "        if self.char is not None:\n",
        "            return 1, tree, [self.char]\n",
        "        else:\n",
        "            node_l, tree_l, char_l = self.left.to_table() if self.left is not None else (0, '', [])\n",
        "            node_r, tree_r, char_r = self.right.to_table() if self.right is not None else (0, '', [])\n",
        "            char = char_l + char_r\n",
        "            node = node_l + node_r + 1\n",
        "            if self.left is not None:\n",
        "                tree += '0' + tree_l\n",
        "            if self.right is not None:\n",
        "                tree += '1' + tree_r\n",
        "            return [node, tree, char]"
      ]
    },
    {
      "cell_type": "code",
      "execution_count": null,
      "metadata": {
        "deletable": true,
        "editable": true,
        "id": "U81Lu8hn8hB-"
      },
      "outputs": [],
      "source": [
        "def build_tree_list(data):\n",
        "    list_block = calc_freq_list(data)\n",
        "    heap = []\n",
        "    for block in list_block.values():\n",
        "        heap.append(Node_Block(block['char'], block['freq']))\n",
        "    while len(heap) > 1:\n",
        "        heap.sort()\n",
        "        left = heap.pop(0)\n",
        "        right = heap.pop(0)\n",
        "        heap.append(Node_Block(left=left, right=right))\n",
        "    if heap[0].char is not None:\n",
        "        return Node_Block(left=heap[0])\n",
        "    return heap[0]"
      ]
    },
    {
      "cell_type": "code",
      "execution_count": null,
      "metadata": {
        "deletable": true,
        "editable": true,
        "id": "X2eJlq9N8hB-"
      },
      "outputs": [],
      "source": [
        "def tree_to_dict_block(root):\n",
        "    def traverse(node, code):\n",
        "        if node is None:\n",
        "            return\n",
        "        elif node.char is not None:\n",
        "            return [[node.char, code]]\n",
        "        else:\n",
        "            return traverse(node.left, code + '0') + traverse(node.right, code + '1')\n",
        "    return traverse(root, '')"
      ]
    },
    {
      "cell_type": "markdown",
      "metadata": {
        "collapsed": false,
        "deletable": true,
        "editable": true,
        "id": "92hFp6Hw8hB-"
      },
      "source": [
        "Thêm vào cỡ cửa sổ khi encode\n"
      ]
    },
    {
      "cell_type": "code",
      "execution_count": null,
      "metadata": {
        "deletable": true,
        "editable": true,
        "id": "_z5T-1ha8hB-"
      },
      "outputs": [],
      "source": [
        "def encode_block(data,word_size = 4, lzw_split_func = lzw_split):\n",
        "    split_block = lzw_split_func(data,word_size)\n",
        "    root = build_tree_list(split_block)\n",
        "    huffman_dict = tree_to_dict_block(root)\n",
        "    res = ''\n",
        "    for block in split_block:\n",
        "        for i in huffman_dict:\n",
        "            if i[0] == block:\n",
        "                res += i[1]\n",
        "\n",
        "    res = [word_size] + root.to_table() + [res]\n",
        "    return res"
      ]
    },
    {
      "cell_type": "markdown",
      "metadata": {
        "collapsed": false,
        "deletable": true,
        "editable": true,
        "id": "_ACYu2Y18hB-"
      },
      "source": [
        "Giờ dữ liệu sau khi mã hóa sẽ thêm 1 số nữa là kích thước tối đa của mỗi node sẽ lưu (word size - $w$).\n",
        "\n",
        "Độ dài sau khi mã hóa là $w + a + (o - 1) + f \\times b \\times w + e$ với $m$ là số bộ\n",
        "\n",
        "Để thuật toán hiệu quả thì $(n - b \\times w) \\times f > a + w + (o - 1) + e$ còn không dữ liệu sau khi nén sẽ bị phình ra bởi việc lưu cây Huffman\n",
        "\n",
        "Tình huống xấu của thuật toán vẫn tương tự với trước khi cải tiến.\n",
        "\n",
        "Để thấy được kích thước tối đa mỗi node ảnh hưởng như thế nào, ta sẽ vẽ đồ thị. $a, w, f$ sẽ tạm tính 32 bit\n",
        "\n",
        "Bộ dữ liệu là lặp lại 30 lần của đoạn văn"
      ]
    },
    {
      "cell_type": "code",
      "execution_count": null,
      "metadata": {
        "deletable": true,
        "editable": true,
        "id": "fcDwO8si8hB_"
      },
      "outputs": [],
      "source": [
        "import matplotlib.pyplot as plt\n",
        "a,W,f = 32,32,32\n",
        "\n",
        "data = 30 * \"\"\"\n",
        "Lorem ipsum dolor sit amet, consectetur adipiscing elit. In sed erat vitae nunc mattis pretium eu ultricies turpis. Quisque a suscipit enim. Nullam tristique diam eu risus tincidunt ultrices. Quisque gravida nisi a porta euismod. Nam tincidunt pellentesque purus eu dapibus. Sed luctus ac dui eget cursus. Quisque quis velit vel neque mattis elementum.\n",
        "\n",
        "Integer et tortor a tortor rhoncus dignissim vitae ut nunc. Nulla in varius eros. Maecenas eget aliquam risus, sit amet vestibulum diam. Maecenas luctus arcu odio, eu maximus enim vehicula eu. Fusce et commodo ante. Proin consectetur elit vel quam faucibus gravida. Duis lorem arcu, dictum ut bibendum ut, fringilla ac tellus. Praesent posuere augue in suscipit varius. Vestibulum mi nibh, venenatis a felis in, sollicitudin viverra magna. Vivamus quis erat arcu. Pellentesque nec bibendum ex, vitae tempor mauris. Aliquam erat volutpat. Donec luctus non risus id suscipit. Maecenas efficitur sem porta est fermentum hendrerit.\n",
        "\n",
        "Praesent pulvinar mattis gravida. Nunc tincidunt a quam ut aliquet. Ut nec libero eget dolor ornare vestibulum. Vivamus at orci purus. Aenean eget enim dapibus, elementum velit eget, tempor purus. Cras efficitur dignissim ipsum eu lobortis. Nulla congue vestibulum pharetra. Praesent sit amet hendrerit tortor. Sed porttitor quam egestas quam fermentum, ut fringilla dui molestie. Nullam est leo, tincidunt eget consectetur ac, aliquam in massa.\n",
        "\n",
        "Praesent vel mauris neque. Quisque varius sed metus at gravida. Fusce condimentum purus ac sem lobortis venenatis. Ut interdum nisi nibh, sed malesuada justo pretium eu. Proin efficitur gravida aliquam. Praesent eu commodo velit, eu cursus diam. Donec et ante ut nibh laoreet congue sed in sapien. Vestibulum blandit semper sapien vel cursus. Mauris feugiat dolor nec imperdiet mollis. Cras vulputate vitae neque maximus sagittis. Duis ultricies lobortis gravida. Cras nec risus ac augue hendrerit blandit. Nam diam metus, dignissim id lacus eget, euismod dignissim massa. Nullam et mi vestibulum lacus consectetur convallis vitae et dolor.\n",
        "\n",
        "Maecenas sit amet facilisis nisi, vel porta risus. Class aptent taciti sociosqu ad litora torquent per conubia nostra, per inceptos himenaeos. Quisque eu ante quis lectus sollicitudin posuere et in justo. Nam sapien eros, suscipit eget felis id, efficitur pulvinar felis. Suspendisse rhoncus, eros et placerat sagittis, diam ipsum sagittis justo, quis dictum libero sapien eu neque. Donec ultricies consectetur enim sodales maximus. Phasellus at rutrum arcu, a fermentum dolor. Nulla condimentum sem dui, non rutrum leo iaculis a. Maecenas id scelerisque lorem, ac tempus est. Etiam sit amet venenatis massa. Vestibulum tempor finibus ligula non efficitur. Fusce eu ligula ut metus bibendum tincidunt vitae in enim.\n",
        "\"\"\""
      ]
    },
    {
      "cell_type": "markdown",
      "source": [
        "Chia bằng LZW thông thường"
      ],
      "metadata": {
        "id": "jELT53P-8ILD"
      }
    },
    {
      "cell_type": "code",
      "source": [
        "word_size = [0]\n",
        "length = [len(data)*f]\n",
        "\n",
        "for i in range(1, 6):\n",
        "    res = encode_block(data, i, lzw_split_func = lzw_split_0)\n",
        "    word_size.append(i)\n",
        "    length.append(a + W + len(res[2]) + res[0]*len(res[3])*f + len(res[4]))\n",
        "\n",
        "plt.plot(word_size, length)\n",
        "plt.xlabel('Word Size')\n",
        "plt.ylabel('Size')\n",
        "plt.xlim(0, 5)"
      ],
      "metadata": {
        "colab": {
          "base_uri": "https://localhost:8080/",
          "height": 482
        },
        "id": "3NMVHK3P8PQJ",
        "outputId": "d3cbc714-0189-4a6a-9933-826f91455fb8"
      },
      "execution_count": null,
      "outputs": [
        {
          "output_type": "execute_result",
          "data": {
            "text/plain": [
              "(0.0, 5.0)"
            ]
          },
          "metadata": {},
          "execution_count": 231
        },
        {
          "output_type": "display_data",
          "data": {
            "text/plain": [
              "<Figure size 640x480 with 1 Axes>"
            ],
            "image/png": "[encoded data removed]"
          },
          "metadata": {}
        }
      ]
    },
    {
      "cell_type": "markdown",
      "source": [
        "Chia bằng LZW cải tiến"
      ],
      "metadata": {
        "id": "fE5cKFwE88ad"
      }
    },
    {
      "cell_type": "code",
      "execution_count": null,
      "metadata": {
        "colab": {
          "base_uri": "https://localhost:8080/",
          "height": 482
        },
        "id": "mR9na_CM8hB_",
        "outputId": "52598194-52c7-449c-d785-fdf903a58d08"
      },
      "outputs": [
        {
          "output_type": "execute_result",
          "data": {
            "text/plain": [
              "(0.0, 5.0)"
            ]
          },
          "metadata": {},
          "execution_count": 232
        },
        {
          "output_type": "display_data",
          "data": {
            "text/plain": [
              "<Figure size 640x480 with 1 Axes>"
            ],
            "image/png": "[encoded data removed]"
          },
          "metadata": {}
        }
      ],
      "source": [
        "word_size = [0]\n",
        "length = [len(data)*f]\n",
        "\n",
        "for i in range(1, 6):\n",
        "    res = encode_block(data, i)\n",
        "    word_size.append(i)\n",
        "    length.append(a + W + len(res[2]) + res[0]*len(res[3])*f + len(res[4]))\n",
        "\n",
        "plt.plot(word_size, length)\n",
        "plt.xlabel('Word Size')\n",
        "plt.ylabel('Size')\n",
        "plt.xlim(0, 5)"
      ]
    },
    {
      "cell_type": "markdown",
      "metadata": {
        "collapsed": false,
        "deletable": true,
        "editable": true,
        "id": "ujNuNrAS8hB_"
      },
      "source": [
        "Qua hình ta thấy word size = 2 đang là tốt nhất, hiệu quả hơn khi chúng ta chưa chia thành các khối. Việc chạy lại cho đủ tỉ lệ cũng giúp cỡ sau khi nén khi word size = 4 và 5 thấp hơn rõ rệt trước khi cải tiến\n",
        "\n",
        "Với mỗi dữ liệu, chúng ta sẽ cần 1 word size phù hợp. Word size càng nhỏ các tập sẽ càng lặp nhiều thì tần số của các block sẽ càng lớn. Còn nếu word size càng lớn thì các tập sẽ càng khác nhau thì tần số của các block sẽ càng thấp (Không khác gì việc giết gà dùng dao mổ trâu).\n",
        "\n",
        "Ta có bài toán tối ưu: Tìm $w$ sao cho $w + a + (o - 1) + f \\times |b| \\times w + e$ là nhỏ nhất với $|b_i| \\leq w, n = \\sum |b_i|$, b là tập không lặp của bộ các $b_i$.\n",
        "\n",
        "Nhưng không, chưa ai giải được bài toán trên hết, muốn biết cỡ nào tốt nhất, hiện tại chúng ta phải thử. Các phần mềm sẽ cho chọn word size. \n",
        "\n",
        "Ví dụ: 7zip với mã hóa Deflate được kết hợp từ LZ77 và Huffman. Word size mặc định 32 bit tương đương 1 kí tự UTF-8"
      ]
    },
    {
      "cell_type": "markdown",
      "metadata": {
        "collapsed": false,
        "deletable": true,
        "editable": true,
        "id": "w3m0LrR98hB_"
      },
      "source": [
        "![](data:image/png;base64,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)"
      ]
    },
    {
      "cell_type": "markdown",
      "metadata": {
        "collapsed": false,
        "deletable": true,
        "editable": true,
        "id": "Cpg3SHEy8hCB"
      },
      "source": [
        "## Giải nén\n",
        "Sửa lại 1 chút hàm `table_to_tree` và hàm `decode` để hoạt động với đoạn mã hóa mới được trả về từ `encode_block`"
      ]
    },
    {
      "cell_type": "code",
      "execution_count": null,
      "metadata": {
        "deletable": true,
        "editable": true,
        "id": "C1CQKvgi8hCB"
      },
      "outputs": [],
      "source": [
        "def table_to_tree_block(code):\n",
        "    wordsize = code[0]\n",
        "    node = code[1] - 1# Lấy số nút trừ root\n",
        "    preorder=code[2] # Lấy preorder của cây\n",
        "    # Xây cây\n",
        "    root = Node()\n",
        "    current = root \n",
        "    for i in range(len(preorder)):\n",
        "        if preorder[i] == '0':\n",
        "            current.left = Node()\n",
        "            current.left.father = current\n",
        "            current = current.left\n",
        "        elif preorder[i] == '1':\n",
        "            current = current.father\n",
        "            while current.right is not None:\n",
        "                current = current.father\n",
        "            current.right = Node()\n",
        "            current.right.father = current\n",
        "            current = current.right\n",
        "    # Chèn kí tự cho nút lá\n",
        "    leafs = root.leafs()\n",
        "    for i in range(len(leafs)):\n",
        "        if len(code[3][i]) > wordsize:\n",
        "            raise Exception('Invalid code')\n",
        "        leafs[i].char = code[3][i]\n",
        "    return root, code[-1]"
      ]
    },
    {
      "cell_type": "code",
      "execution_count": null,
      "metadata": {
        "deletable": true,
        "editable": true,
        "id": "14e5gIJz8hCB"
      },
      "outputs": [],
      "source": [
        "def decode_block(code, huffman_tree=None):\n",
        "    if huffman_tree is None:\n",
        "        huffman_tree, code = table_to_tree_block(code)\n",
        "    current = huffman_tree\n",
        "    data = ''\n",
        "    for c in code:\n",
        "        if c == '0':\n",
        "            current = current.left\n",
        "        elif c == '1':\n",
        "            current = current.right\n",
        "        if current.char is not None:\n",
        "            data += ''.join(current.char)\n",
        "            current = huffman_tree\n",
        "    return data"
      ]
    },
    {
      "cell_type": "code",
      "execution_count": null,
      "metadata": {
        "deletable": true,
        "editable": true,
        "colab": {
          "base_uri": "https://localhost:8080/"
        },
        "id": "xPgUhLU88hCC",
        "outputId": "abe33ec7-b17a-4102-9361-7132e9dd5e1e"
      },
      "outputs": [
        {
          "output_type": "stream",
          "name": "stdout",
          "text": [
            "True\n",
            "Size: 4001\n"
          ]
        }
      ],
      "source": [
        "data = \"\"\"\n",
        "Trăm năm trong cõi người ta,\n",
        "Chữ tài chữ mệnh khéo là ghét nhau.\n",
        "Trải qua một cuộc bể dâu,\n",
        "Những điều trông thấy mà đau đớn lòng.\n",
        "\"\"\"\n",
        "encoded = encode_block(data,2)\n",
        "decoded = decode_block(encoded)\n",
        "print(decoded == data)\n",
        "size = 32 + 32 + len(encoded[2]) + encoded[0]*len(encoded[3])*32 + len(encoded[4])\n",
        "print(\"Size:\", size)"
      ]
    },
    {
      "cell_type": "markdown",
      "metadata": {
        "collapsed": false,
        "deletable": true,
        "editable": true,
        "id": "rnKhJxsU8hCC"
      },
      "source": [
        "To hơn lúc nén với word_size = 1 "
      ]
    },
    {
      "cell_type": "markdown",
      "metadata": {
        "collapsed": false,
        "deletable": true,
        "editable": true,
        "id": "IIAtAl348hCC"
      },
      "source": [
        "# Ứng dụng\n",
        "\n",
        "Ứng dụng của thuật toán Huffman là mã hóa và giải mã các tập tin văn bản, hình ảnh, âm thanh, video, tín hiệu:\n",
        "\n",
        "- Được kết hợp với một số thuật toán khác để tạo ra thuật toán nén mới. Thường là kết hợp với thuật toán LZ (công bố bởi Lempel và Ziv năm 1977 1978) để tạo ra các thuật toán như Bzip2, Deflate, Gzip, Zstd, ...\n",
        "- Do đặc tính của mình, thuật toán Huffman được sử dụng để truyền dữ liệu bởi các web server (HTTP Compression) thường là Gzip, bên cạnh đó còn có giao thức SMB\n",
        "- Sử dụng để nén ảnh với chuẩn Lossless JPEG (JPEG-2000)\n",
        "- Sử dụng để nén âm thanh với chuẩn MP3\n",
        "- Bên cạnh đó Huffman còn được sử dụng để nén văn bản như PDF sử dụng Lossless JPEG và Deflate, Microsoft Office\n",
        "\n",
        "# Tài liệu tham khảo\n",
        "\n",
        "- [Huffman coding: https://en.wikipedia.org/wiki/Huffman_coding](https://en.wikipedia.org/wiki/Huffman_coding)\n",
        "- [Huffman Coding | Greedy Algo-3: https://www.geeksforgeeks.org/huffman-coding-greedy-algo-3/](https://www.geeksforgeeks.org/huffman-coding-greedy-algo-3/)\n",
        "- [Canonical Huffman code: https://en.wikipedia.org/wiki/Canonical_Huffman_code](https://en.wikipedia.org/wiki/Canonical_Huffman_code)\n",
        "- [Deflate: https://zlib.net/feldspar.html](https://zlib.net/feldspar.html)\n",
        "- [MP3: https://en.wikipedia.org/wiki/MP3](https://en.wikipedia.org/wiki/MP3)\n",
        "- [Lossless compression algorithms: https://en.wikipedia.org/wiki/Category:Lossless_compression_algorithms](https://en.wikipedia.org/wiki/Category:Lossless_compression_algorithms)\n",
        "- [Open Specifications: https://learn.microsoft.com/en-us/openspecs/main/ms-openspeclp/3589baea-5b22-48f2-9d43-f5bea4960ddb](https://learn.microsoft.com/en-us/openspecs/main/ms-openspeclp/3589baea-5b22-48f2-9d43-f5bea4960ddb)\n"
      ]
    }
  ],
  "metadata": {
    "kernelspec": {
      "display_name": "Python 3 (system-wide)",
      "env": {},
      "language": "python",
      "metadata": {
        "cocalc": {
          "description": "Python 3 programming language",
          "priority": 100,
          "url": "https://www.python.org/"
        }
      },
      "name": "python3",
      "resource_dir": "/ext/jupyter/kernels/python3"
    },
    "language_info": {
      "codemirror_mode": {
        "name": "ipython",
        "version": 3
      },
      "file_extension": ".py",
      "mimetype": "text/x-python",
      "name": "python",
      "nbconvert_exporter": "python",
      "pygments_lexer": "ipython3",
      "version": "3.10.9"
    },
    "colab": {
      "provenance": []
    }
  },
  "nbformat": 4,
  "nbformat_minor": 0
}